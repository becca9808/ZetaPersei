{
 "cells": [
  {
   "cell_type": "code",
   "execution_count": null,
   "metadata": {},
   "outputs": [],
   "source": [
    "# Imports for queries\n",
    "from astroquery.vizier import Vizier\n",
    "from astroquery.simbad import Simbad\n",
    "import astropy.units as u\n",
    "import observation_planning as op\n",
    "from astropy.coordinates import SkyCoord, Angle\n",
    "\n",
    "# Imports for astroplan plotting\n",
    "import matplotlib.pyplot as plt\n",
    "import matplotlib.dates as mdates\n",
    "import numpy as np\n",
    "from astroplan import Observer, FixedTarget\n",
    "from astropy.time import Time\n",
    "from datetime import timezone  # Importing timezone\n",
    "from astropy.coordinates import EarthLocation, AltAz, SkyCoord\n",
    "from astropy import units as u\n",
    "\n",
    "# Imports for JPL ephimerides\n"
   ]
  }
 ],
 "metadata": {
  "kernelspec": {
   "display_name": "zetaenv",
   "language": "python",
   "name": "python3"
  },
  "language_info": {
   "name": "python",
   "version": "3.12.6"
  }
 },
 "nbformat": 4,
 "nbformat_minor": 2
}
