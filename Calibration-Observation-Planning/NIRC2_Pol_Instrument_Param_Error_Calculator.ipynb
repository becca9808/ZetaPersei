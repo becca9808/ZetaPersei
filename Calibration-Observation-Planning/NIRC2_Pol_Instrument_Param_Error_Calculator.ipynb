{
 "cells": [
  {
   "cell_type": "code",
   "execution_count": 15,
   "metadata": {},
   "outputs": [],
   "source": [
    "import json\n",
    "from etc_nirc2_return_dict import call_and_print_do_calc\n",
    "from instrument_terms import create_measurement_covariance_matrix, \\\n",
    "    construct_QU_data, calculate_instrument_param_errs\n",
    "from IPython.display import display, Math"
   ]
  },
  {
   "cell_type": "markdown",
   "metadata": {},
   "source": [
    "# Calculating the SNR of a source"
   ]
  },
  {
   "cell_type": "code",
   "execution_count": 16,
   "metadata": {},
   "outputs": [
    {
     "name": "stdout",
     "output_type": "stream",
     "text": [
      "Total noise is 35297.877756368005 DN\n",
      "Total signal is 4980022073.413997 DN, in 95.2 pixels\n",
      "S/N = 141085.5946577571\n",
      "Aperature area is 95.2 pixels\n",
      "Background per frame is 5.7 DN\n",
      "Efficiency =  32.25806451612903 %\n",
      "Total integration time is 50 sec\n",
      "Total elapsed observing time is 155.0 sec\n",
      "Total clock time is 137.63378905119998 sec\n"
     ]
    }
   ],
   "source": [
    "# Example call to modified nirc2_etc function for one 6th mag standard\n",
    "# Based on Eta Crv\n",
    "\n",
    "SNR_1 = call_and_print_do_calc(\n",
    "    magnitude=3.372,          # Source apparent magnitude, default is 20\n",
    "    strehl=0.3,           # Strehl ratio, unitless, default 0.3\n",
    "    exp_time=1,          # Exposure time per exposure in seconds, default 10,\n",
    "    coadds=10,            # Number of co-additions, unitless, default 10\n",
    "    num_dith=5,           # Number of dithers, unitless, default 5\n",
    "    num_repeats=1,        # Repeats in dithering pattern, unitless, default 1\n",
    "    camera='narrow',      # Camera size: 'wide' or 'narrow', default 'narrow'\n",
    "    img_filter='K',      # Imaging filter, e.g., 'J', 'H', 'K', default 'Kp'\n",
    "    num_read=2,           # Number of readouts per exposure, default 2\n",
    "    x_extent=1024,        # Horizontal readout window in pixels, default 1024\n",
    "    y_extent=1024,        # Vertical readout window in pixels, default 1024\n",
    "    ao_mode=0,            # AO mode: 0 for NGS, 1 for LGS, default 0\n",
    "    laser_dith=1          # Laser dithering: 0 fixed, 1 slaved, default 1\n",
    ")\n"
   ]
  },
  {
   "cell_type": "code",
   "execution_count": 17,
   "metadata": {},
   "outputs": [
    {
     "name": "stdout",
     "output_type": "stream",
     "text": [
      "Total noise is 11058.063918965947 DN\n",
      "Total signal is 485323440.54374605 DN, in 95.2 pixels\n",
      "S/N = 43888.6448930139\n",
      "Aperature area is 95.2 pixels\n",
      "Background per frame is 57.0 DN\n",
      "Efficiency =  82.64462809917356 %\n",
      "Total integration time is 500 sec\n",
      "Total elapsed observing time is 605.0 sec\n",
      "Total clock time is 587.6337890512 sec\n"
     ]
    }
   ],
   "source": [
    "# Example call to modified nirc2_etc function for one 8th mag standard\n",
    "\n",
    "SNR_2 = call_and_print_do_calc(\n",
    "    magnitude=8.4,          # Source apparent magnitude, default is 20\n",
    "    strehl=0.3,           # Strehl ratio, unitless, default 0.3\n",
    "    exp_time=10,          # Exposure time per exposure in seconds, default 10,\n",
    "    coadds=10,            # Number of co-additions, unitless, default 10\n",
    "    num_dith=5,           # Number of dithers, unitless, default 5\n",
    "    num_repeats=1,        # Repeats in dithering pattern, unitless, default 1\n",
    "    camera='narrow',      # Camera size: 'wide' or 'narrow', default 'narrow'\n",
    "    img_filter='K',      # Imaging filter, e.g., 'J', 'H', 'K', default 'Kp'\n",
    "    num_read=2,           # Number of readouts per exposure, default 2\n",
    "    x_extent=1024,        # Horizontal readout window in pixels, default 1024\n",
    "    y_extent=1024,        # Vertical readout window in pixels, default 1024\n",
    "    ao_mode=0,            # AO mode: 0 for NGS, 1 for LGS, default 0\n",
    "    laser_dith=1          # Laser dithering: 0 fixed, 1 slaved, default 1\n",
    ")\n"
   ]
  },
  {
   "cell_type": "markdown",
   "metadata": {},
   "source": [
    "# Calculating the error on the instrument parameters based on SNR of above standards"
   ]
  },
  {
   "cell_type": "code",
   "execution_count": 18,
   "metadata": {},
   "outputs": [
    {
     "data": {
      "text/latex": [
       "$\\displaystyle \\text{Error on } \\eta_{Q}: 0.31$"
      ],
      "text/plain": [
       "<IPython.core.display.Math object>"
      ]
     },
     "metadata": {},
     "output_type": "display_data"
    },
    {
     "data": {
      "text/latex": [
       "$\\displaystyle \\text{Error on } \\chi_{U \\to Q}: 0.05$"
      ],
      "text/plain": [
       "<IPython.core.display.Math object>"
      ]
     },
     "metadata": {},
     "output_type": "display_data"
    }
   ],
   "source": [
    "# Example usage:\n",
    "I_data_errors = [1 / SNR_1, 1 / SNR_1, 1 / SNR_2, 1 / SNR_2]  # Example values\n",
    "Sigma_I_data = create_measurement_covariance_matrix(I_data_errors)\n",
    "\n",
    "num_standards = 2  # Example for two standards, two points per. standard\n",
    "\n",
    "# Example values from Eta Crv and then HDE279658\n",
    "Qs = [-0.01296793, -0.0119721, 0.001381573, 0.020351423]  # Example Q values\n",
    "Us = [-0.0272274, -0.0272652, -0.014059036, 0.05790775]  # Example U values\n",
    "QU_data = construct_QU_data(num_standards, Qs, Us)\n",
    "\n",
    "Sigma_eta_xi = calculate_instrument_param_errs(Sigma_I_data, QU_data)"
   ]
  },
  {
   "cell_type": "code",
   "execution_count": null,
   "metadata": {},
   "outputs": [],
   "source": []
  }
 ],
 "metadata": {
  "kernelspec": {
   "display_name": "MKIDAnalysis",
   "language": "python",
   "name": "mkidanalysis"
  },
  "language_info": {
   "codemirror_mode": {
    "name": "ipython",
    "version": 3
   },
   "file_extension": ".py",
   "mimetype": "text/x-python",
   "name": "python",
   "nbconvert_exporter": "python",
   "pygments_lexer": "ipython3",
   "version": "3.7.7"
  }
 },
 "nbformat": 4,
 "nbformat_minor": 2
}
